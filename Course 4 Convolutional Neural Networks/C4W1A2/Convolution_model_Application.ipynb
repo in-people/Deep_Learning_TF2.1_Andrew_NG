{
 "cells": [
  {
   "cell_type": "markdown",
   "metadata": {},
   "source": [
    "# Convolutional Neural Networks: Application\n",
    "\n",
    "Welcome to Course 4's second assignment! In this notebook, you will:\n",
    "\n",
    "- Create a mood classifer using the TF Keras Sequential API\n",
    "- Build a ConvNet to identify sign language digits using the TF Keras Functional API\n",
    "\n",
    "**After this assignment you will be able to:**\n",
    "\n",
    "- Build and train a ConvNet in TensorFlow for a __binary__ classification problem\n",
    "- Build and train a ConvNet in TensorFlow for a __multiclass__ classification problem\n",
    "- Explain different use cases for the Sequential and Functional APIs\n",
    "\n",
    "To complete this assignment, you should already be familiar with TensorFlow. If you are not, please refer back to the **TensorFlow Tutorial** of the third week of Course 2 (\"**Improving deep neural networks**\")."
   ]
  },
  {
   "cell_type": "markdown",
   "metadata": {},
   "source": [
    "## Table of Contents\n",
    "\n",
    "- [1 - Packages](#1)\n",
    "    - [1.1 - Load the Data and Split the Data into Train/Test Sets](#1-1)\n",
    "- [2 - Layers in TF Keras](#2)\n",
    "- [3 - The Sequential API](#3)\n",
    "    - [3.1 - Create the Sequential Model](#3-1)\n",
    "        - [Exercise 1 - happyModel](#ex-1)\n",
    "    - [3.2 - Train and Evaluate the Model](#3-2)\n",
    "- [4 - The Functional API](#4)\n",
    "    - [4.1 - Load the SIGNS Dataset](#4-1)\n",
    "    - [4.2 - Split the Data into Train/Test Sets](#4-2)\n",
    "    - [4.3 - Forward Propagation](#4-3)\n",
    "        - [Exercise 2 - convolutional_model](#ex-2)\n",
    "    - [4.4 - Train the Model](#4-4)\n",
    "- [5 - History Object](#5)\n",
    "- [6 - Bibliography](#6)"
   ]
  },
  {
   "cell_type": "markdown",
   "metadata": {},
   "source": [
    "<a name='1'></a>\n",
    "## 1 - Packages\n",
    "\n",
    "As usual, begin by loading in the packages."
   ]
  },
  {
   "cell_type": "code",
   "execution_count": 1,
   "metadata": {},
   "outputs": [],
   "source": [
    "import math\n",
    "import numpy as np\n",
    "import h5py\n",
    "import matplotlib.pyplot as plt\n",
    "from matplotlib.pyplot import imread\n",
    "import scipy\n",
    "from PIL import Image\n",
    "import pandas as pd\n",
    "import tensorflow as tf\n",
    "import tensorflow.keras.layers as tfl\n",
    "from tensorflow.python.framework import ops\n",
    "from cnn_utils import *\n",
    "from test_utils import summary, comparator\n",
    "\n",
    "%matplotlib inline\n",
    "np.random.seed(1)"
   ]
  },
  {
   "cell_type": "markdown",
   "metadata": {},
   "source": [
    "<a name='1-1'></a>\n",
    "### 1.1 - Load the Data and Split the Data into Train/Test Sets\n",
    "\n",
    "You'll be using the Happy House dataset for this part of the assignment, which contains images of peoples' faces. Your task will be to build a ConvNet that determines whether the people in the images are smiling or not -- because they only get to enter the house if they're smiling!  "
   ]
  },
  {
   "cell_type": "code",
   "execution_count": 2,
   "metadata": {},
   "outputs": [
    {
     "name": "stdout",
     "output_type": "stream",
     "text": [
      "number of training examples = 600\n",
      "number of test examples = 150\n",
      "X_train shape: (600, 64, 64, 3)\n",
      "Y_train shape: (600, 1)\n",
      "X_test shape: (150, 64, 64, 3)\n",
      "Y_test shape: (150, 1)\n"
     ]
    }
   ],
   "source": [
    "X_train_orig, Y_train_orig, X_test_orig, Y_test_orig, classes = load_happy_dataset()\n",
    "\n",
    "# Normalize image vectors\n",
    "X_train = X_train_orig/255.\n",
    "X_test = X_test_orig/255.\n",
    "\n",
    "# Reshape\n",
    "Y_train = Y_train_orig.T\n",
    "Y_test = Y_test_orig.T\n",
    "\n",
    "print (\"number of training examples = \" + str(X_train.shape[0]))\n",
    "print (\"number of test examples = \" + str(X_test.shape[0]))\n",
    "print (\"X_train shape: \" + str(X_train.shape))\n",
    "print (\"Y_train shape: \" + str(Y_train.shape))\n",
    "print (\"X_test shape: \" + str(X_test.shape))\n",
    "print (\"Y_test shape: \" + str(Y_test.shape))"
   ]
  },
  {
   "cell_type": "markdown",
   "metadata": {},
   "source": [
    "You can display the images contained in the dataset. Images are **64x64** pixels in RGB format (3 channels)."
   ]
  },
  {
   "cell_type": "code",
   "execution_count": 3,
   "metadata": {},
   "outputs": [
    {
     "data": {
      "image/png": "[encoded data removed]",
      "text/plain": [
       "<Figure size 432x288 with 1 Axes>"
      ]
     },
     "metadata": {
      "needs_background": "light"
     },
     "output_type": "display_data"
    }
   ],
   "source": [
    "index = 12\n",
    "plt.imshow(X_train_orig[index]) #display sample training image\n",
    "plt.show()"
   ]
  },
  {
   "cell_type": "markdown",
   "metadata": {},
   "source": [
    "<a name='2'></a>\n",
    "## 2 - Layers in TF Keras \n",
    "\n",
    "In the previous assignment, you created layers manually in numpy. In TF Keras, you don't have to write code directly to create layers. Rather, TF Keras has pre-defined layers you can use. \n",
    "\n",
    "When you create a layer in TF Keras, you are creating a function that takes some input and transforms it into an output you can reuse later. Nice and easy! "
   ]
  },
  {
   "cell_type": "markdown",
   "metadata": {},
   "source": [
    "<a name='3'></a>\n",
    "## 3 - The Sequential API\n",
    "\n",
    "In the previous assignment, you built helper functions using `numpy` to understand the mechanics behind convolutional neural networks. Most practical applications of deep learning today are built using programming frameworks, which have many built-in functions you can simply call. Keras is a high-level abstraction built on top of TensorFlow, which allows for even more simplified and optimized model creation and training. \n",
    "\n",
    "For the first part of this assignment, you'll create a model using TF Keras' Sequential API, which allows you to build layer by layer, and is ideal for building models where each layer has **exactly one** input tensor and **one** output tensor. \n",
    "\n",
    "As you'll see, using the Sequential API is simple and straightforward, but is only appropriate for simpler, more straightforward tasks. Later in this notebook you'll spend some time building with a more flexible, powerful alternative: the Functional API. \n",
    " "
   ]
  },
  {
   "cell_type": "markdown",
   "metadata": {},
   "source": [
    "<a name='3-1'></a>\n",
    "### 3.1 - Create the Sequential Model\n",
    "\n",
    "As mentioned earlier, the TensorFlow Keras Sequential API can be used to build simple models with layer operations that proceed in a sequential order. \n",
    "\n",
    "\n",
    "You can also add layers incrementally to a Sequential model with the `.add()` method, or remove them using the `.pop()` method, much like you would in a regular Python list.\n",
    "\n",
    "Actually, you can think of a Sequential model as behaving like a list of layers. Like Python lists, Sequential layers are ordered, and the order in which they are specified matters.  If your model is non-linear or contains layers with multiple inputs or outputs, a Sequential model wouldn't be the right choice!\n",
    "\n",
    "\n",
    "For any layer construction in Keras, you'll need to specify the input shape in advance. This is because in Keras, the shape of the weights is based on the shape of the inputs. The weights are only created when the model first sees some input data. Sequential models can be created by passing a list of layers to the Sequential constructor, like you will do in the next assignment.\n",
    "\n",
    "\n",
    "\n",
    "<a name='ex-1'></a>\n",
    "### Exercise 1 - happyModel\n",
    "\n",
    "Implement the `happyModel` function below to build the following model: `ZEROPAD2D -> CONV2D -> BATCHNORM -> RELU -> MAXPOOL -> FLATTEN -> DENSE`. Take help from [tf.keras.layers](https://www.tensorflow.org/api_docs/python/tf/keras/layers) \n",
    "\n",
    "Also, plug in the following parameters for all the steps:\n",
    "\n",
    " - [ZeroPadding2D](https://www.tensorflow.org/api_docs/python/tf/keras/layers/ZeroPadding2D): padding 3, input shape 64 x 64 x 3\n",
    " - [Conv2D](https://www.tensorflow.org/api_docs/python/tf/keras/layers/Conv2D): Use 32 7x7 filters, stride 1\n",
    " - [BatchNormalization](https://www.tensorflow.org/api_docs/python/tf/keras/layers/BatchNormalization): for axis 3\n",
    " - [ReLU](https://www.tensorflow.org/api_docs/python/tf/keras/layers/ReLU)\n",
    " - [MaxPool2D](https://www.tensorflow.org/api_docs/python/tf/keras/layers/MaxPool2D): Using default parameters\n",
    " - [Flatten](https://www.tensorflow.org/api_docs/python/tf/keras/layers/Flatten) the previous output.\n",
    " - Fully-connected ([Dense](https://www.tensorflow.org/api_docs/python/tf/keras/layers/Dense)) layer: Apply a fully connected layer with 1 neuron and a sigmoid activation. \n",
    " \n",
    " \n",
    " **Hint:**\n",
    " \n",
    " Use **tfl** as shorthand for **tensorflow.keras.layers**"
   ]
  },
  {
   "cell_type": "code",
   "execution_count": 4,
   "metadata": {
    "deletable": false,
    "nbgrader": {
     "cell_type": "code",
     "checksum": "95d28b191f257bdd5b70c7b8952559d5",
     "grade": false,
     "grade_id": "cell-0e56d3fc28b69aec",
     "locked": false,
     "schema_version": 3,
     "solution": true,
     "task": false
    }
   },
   "outputs": [],
   "source": [
    "# GRADED FUNCTION: happyModel\n",
    "\n",
    "def happyModel():\n",
    "    \"\"\"\n",
    "    Implements the forward propagation for the binary classification model:\n",
    "    ZEROPAD2D -> CONV2D -> BATCHNORM -> RELU -> MAXPOOL -> FLATTEN -> DENSE\n",
    "    \n",
    "    Note that for simplicity and grading purposes, you'll hard-code all the values\n",
    "    such as the stride and kernel (filter) sizes. \n",
    "    Normally, functions should take these values as function parameters.\n",
    "    \n",
    "    Arguments:\n",
    "    None\n",
    "\n",
    "    Returns:\n",
    "    model -- TF Keras model (object containing the information for the entire training process) \n",
    "    \"\"\"\n",
    "    model = tf.keras.Sequential([\n",
    "           \n",
    "            ## ZeroPadding2D with padding 3, input shape of 64 x 64 x 3\n",
    "                tfl.ZeroPadding2D(padding = 3, input_shape = (64, 64, 3)),\n",
    "            ## Conv2D with 32 7x7 filters and stride of 1\n",
    "        \n",
    "            #filters=1,kernel_size=2,strides=(1,1),padding='same'\n",
    "        \n",
    "                tfl.Conv2D(filters=32, kernel_size=7, strides=(1,1) ),\n",
    "            ## BatchNormalization for axis 3\n",
    "            \n",
    "                tfl.BatchNormalization(axis = 3),\n",
    "            ## ReLU\n",
    "                tfl.ReLU(),\n",
    "            ## Max Pooling 2D with default parameters\n",
    "                tfl.MaxPool2D(),\n",
    "            ## Flatten layer\n",
    "                tfl.Flatten(),\n",
    "            ## Dense layer with 1 unit for output & 'sigmoid' activation\n",
    "                tfl.Dense(1, activation=\"sigmoid\")\n",
    "            # YOUR CODE STARTS HERE\n",
    "            \n",
    "            \n",
    "            # YOUR CODE ENDS HERE\n",
    "        ])\n",
    "    \n",
    "    return model"
   ]
  },
  {
   "cell_type": "code",
   "execution_count": 5,
   "metadata": {},
   "outputs": [
    {
     "name": "stdout",
     "output_type": "stream",
     "text": [
      "[['ZeroPadding2D', (None, 70, 70, 3), 0, ((3, 3), (3, 3))], ['Conv2D', (None, 64, 64, 32), 4736, 'valid', 'linear', 'GlorotUniform'], ['BatchNormalization', (None, 64, 64, 32), 128], ['ReLU', (None, 64, 64, 32), 0], ['MaxPooling2D', (None, 32, 32, 32), 0, (2, 2), (2, 2), 'valid'], ['Flatten', (None, 32768), 0], ['Dense', (None, 1), 32769, 'sigmoid']]\n",
      "['ZeroPadding2D', (None, 70, 70, 3), 0, ((3, 3), (3, 3))]\n",
      "['Conv2D', (None, 64, 64, 32), 4736, 'valid', 'linear', 'GlorotUniform']\n",
      "['BatchNormalization', (None, 64, 64, 32), 128]\n",
      "['ReLU', (None, 64, 64, 32), 0]\n",
      "['MaxPooling2D', (None, 32, 32, 32), 0, (2, 2), (2, 2), 'valid']\n",
      "['Flatten', (None, 32768), 0]\n",
      "['Dense', (None, 1), 32769, 'sigmoid']\n",
      "\u001b[32mAll tests passed!\u001b[0m\n"
     ]
    }
   ],
   "source": [
    "happy_model = happyModel()\n",
    "print(summary(happy_model))\n",
    "# Print a summary for each layer\n",
    "for layer in summary(happy_model):\n",
    "    print(layer)\n",
    "    \n",
    "output = [['ZeroPadding2D', (None, 70, 70, 3), 0, ((3, 3), (3, 3))],\n",
    "            ['Conv2D', (None, 64, 64, 32), 4736, 'valid', 'linear', 'GlorotUniform'],\n",
    "            ['BatchNormalization', (None, 64, 64, 32), 128],\n",
    "            ['ReLU', (None, 64, 64, 32), 0],\n",
    "            ['MaxPooling2D', (None, 32, 32, 32), 0, (2, 2), (2, 2), 'valid'],\n",
    "            ['Flatten', (None, 32768), 0],\n",
    "            ['Dense', (None, 1), 32769, 'sigmoid']]\n",
    "    \n",
    "comparator(summary(happy_model), output)"
   ]
  },
  {
   "cell_type": "code",
   "execution_count": 6,
   "metadata": {
    "deletable": false,
    "editable": false,
    "nbgrader": {
     "cell_type": "code",
     "checksum": "8d3575c950e2e78149be2d05d671c80d",
     "grade": true,
     "grade_id": "cell-e3e1046e5c33d775",
     "locked": true,
     "points": 10,
     "schema_version": 3,
     "solution": false,
     "task": false
    }
   },
   "outputs": [
    {
     "name": "stdout",
     "output_type": "stream",
     "text": [
      "['ZeroPadding2D', (None, 70, 70, 3), 0, ((3, 3), (3, 3))]\n",
      "['Conv2D', (None, 64, 64, 32), 4736, 'valid', 'linear', 'GlorotUniform']\n",
      "['BatchNormalization', (None, 64, 64, 32), 128]\n",
      "['ReLU', (None, 64, 64, 32), 0]\n",
      "['MaxPooling2D', (None, 32, 32, 32), 0, (2, 2), (2, 2), 'valid']\n",
      "['Flatten', (None, 32768), 0]\n",
      "['Dense', (None, 1), 32769, 'sigmoid']\n",
      "\u001b[32mAll tests passed!\u001b[0m\n"
     ]
    }
   ],
   "source": [
    "happy_model = happyModel()\n",
    "# Print a summary for each layer\n",
    "for layer in summary(happy_model):\n",
    "    print(layer)\n",
    "    \n",
    "output = [['ZeroPadding2D', (None, 70, 70, 3), 0, ((3, 3), (3, 3))],\n",
    "            ['Conv2D', (None, 64, 64, 32), 4736, 'valid', 'linear', 'GlorotUniform'],\n",
    "            ['BatchNormalization', (None, 64, 64, 32), 128],\n",
    "            ['ReLU', (None, 64, 64, 32), 0],\n",
    "            ['MaxPooling2D', (None, 32, 32, 32), 0, (2, 2), (2, 2), 'valid'],\n",
    "            ['Flatten', (None, 32768), 0],\n",
    "            ['Dense', (None, 1), 32769, 'sigmoid']]\n",
    "    \n",
    "comparator(summary(happy_model), output)"
   ]
  },
  {
   "cell_type": "markdown",
   "metadata": {},
   "source": [
    "Now that your model is created, you can compile it for training with an optimizer and loss of your choice. When the string `accuracy` is specified as a metric, the type of accuracy used will be automatically converted based on the loss function used. This is one of the many optimizations built into TensorFlow that make your life easier! If you'd like to read more on how the compiler operates, check the docs [here](https://www.tensorflow.org/api_docs/python/tf/keras/Model#compile)."
   ]
  },
  {
   "cell_type": "code",
   "execution_count": 7,
   "metadata": {},
   "outputs": [],
   "source": [
    "happy_model.compile(optimizer='adam',\n",
    "                   loss='binary_crossentropy',\n",
    "                   metrics=['accuracy'])"
   ]
  },
  {
   "cell_type": "markdown",
   "metadata": {},
   "source": [
    "It's time to check your model's parameters with the `.summary()` method. This will display the types of layers you have, the shape of the outputs, and how many parameters are in each layer. "
   ]
  },
  {
   "cell_type": "code",
   "execution_count": 8,
   "metadata": {
    "scrolled": false
   },
   "outputs": [
    {
     "name": "stdout",
     "output_type": "stream",
     "text": [
      "Model: \"sequential_1\"\n",
      "_________________________________________________________________\n",
      "Layer (type)                 Output Shape              Param #   \n",
      "=================================================================\n",
      "zero_padding2d_1 (ZeroPaddin (None, 70, 70, 3)         0         \n",
      "_________________________________________________________________\n",
      "conv2d_1 (Conv2D)            (None, 64, 64, 32)        4736      \n",
      "_________________________________________________________________\n",
      "batch_normalization_1 (Batch (None, 64, 64, 32)        128       \n",
      "_________________________________________________________________\n",
      "re_lu_1 (ReLU)               (None, 64, 64, 32)        0         \n",
      "_________________________________________________________________\n",
      "max_pooling2d_1 (MaxPooling2 (None, 32, 32, 32)        0         \n",
      "_________________________________________________________________\n",
      "flatten_1 (Flatten)          (None, 32768)             0         \n",
      "_________________________________________________________________\n",
      "dense_1 (Dense)              (None, 1)                 32769     \n",
      "=================================================================\n",
      "Total params: 37,633\n",
      "Trainable params: 37,569\n",
      "Non-trainable params: 64\n",
      "_________________________________________________________________\n"
     ]
    }
   ],
   "source": [
    "happy_model.summary()"
   ]
  },
  {
   "cell_type": "markdown",
   "metadata": {},
   "source": [
    "<a name='3-2'></a>\n",
    "### 3.2 - Train and Evaluate the Model\n",
    "\n",
    "After creating the model, compiling it with your choice of optimizer and loss function, and doing a sanity check on its contents, you are now ready to build! \n",
    "\n",
    "Simply call `.fit()` to train. That's it! No need for mini-batching, saving, or complex backpropagation computations. That's all been done for you, as you're using a TensorFlow dataset with the batches specified already. You do have the option to specify epoch number or minibatch size if you like (for example, in the case of an un-batched dataset)."
   ]
  },
  {
   "cell_type": "code",
   "execution_count": 9,
   "metadata": {},
   "outputs": [
    {
     "name": "stdout",
     "output_type": "stream",
     "text": [
      "Epoch 1/10\n",
      "38/38 [==============================] - 2s 43ms/step - loss: 1.7841 - accuracy: 0.6794\n",
      "Epoch 2/10\n",
      "38/38 [==============================] - 2s 43ms/step - loss: 0.3552 - accuracy: 0.8522\n",
      "Epoch 3/10\n",
      "38/38 [==============================] - 2s 45ms/step - loss: 0.2016 - accuracy: 0.9106\n",
      "Epoch 4/10\n",
      "38/38 [==============================] - 2s 42ms/step - loss: 0.1860 - accuracy: 0.9339\n",
      "Epoch 5/10\n",
      "38/38 [==============================] - 2s 44ms/step - loss: 0.1019 - accuracy: 0.9587\n",
      "Epoch 6/10\n",
      "38/38 [==============================] - 2s 43ms/step - loss: 0.0768 - accuracy: 0.9748\n",
      "Epoch 7/10\n",
      "38/38 [==============================] - 2s 42ms/step - loss: 0.0997 - accuracy: 0.9591\n",
      "Epoch 8/10\n",
      "38/38 [==============================] - 2s 44ms/step - loss: 0.2441 - accuracy: 0.8869\n",
      "Epoch 9/10\n",
      "38/38 [==============================] - 2s 45ms/step - loss: 0.0900 - accuracy: 0.9585\n",
      "Epoch 10/10\n",
      "38/38 [==============================] - 2s 48ms/step - loss: 0.0758 - accuracy: 0.9763\n"
     ]
    },
    {
     "data": {
      "text/plain": [
       "<tensorflow.python.keras.callbacks.History at 0x1dc631c4e50>"
      ]
     },
     "execution_count": 9,
     "metadata": {},
     "output_type": "execute_result"
    }
   ],
   "source": [
    "happy_model.fit(X_train, Y_train, epochs=10, batch_size=16)"
   ]
  },
  {
   "cell_type": "markdown",
   "metadata": {},
   "source": [
    "After that completes, just use `.evaluate()` to evaluate against your test set. This function will print the value of the loss function and the performance metrics specified during the compilation of the model. In this case, the `binary_crossentropy` and the `accuracy` respectively."
   ]
  },
  {
   "cell_type": "code",
   "execution_count": 10,
   "metadata": {},
   "outputs": [
    {
     "name": "stdout",
     "output_type": "stream",
     "text": [
      "5/5 [==============================] - 0s 21ms/step - loss: 0.3403 - accuracy: 0.8600\n"
     ]
    },
    {
     "data": {
      "text/plain": [
       "[0.3402976989746094, 0.8600000143051147]"
      ]
     },
     "execution_count": 10,
     "metadata": {},
     "output_type": "execute_result"
    }
   ],
   "source": [
    "happy_model.evaluate(X_test, Y_test)"
   ]
  },
  {
   "cell_type": "markdown",
   "metadata": {},
   "source": [
    "Easy, right? But what if you need to build a model with shared layers, branches, or multiple inputs and outputs? This is where Sequential, with its beautifully simple yet limited functionality, won't be able to help you. \n",
    "\n",
    "Next up: Enter the Functional API, your slightly more complex, highly flexible friend.  \n",
    "\n",
    "很简单，对吧？ 但是，如果您需要构建具有共享层、分支或多个输入和输出的模型怎么办？ 这就是 Sequential 以其精美简单但功能有限的地方，将无法帮助您。\n",
    "接下来：进入函数式 API，你的稍微复杂一点、高度灵活的朋友"
   ]
  },
  {
   "cell_type": "markdown",
   "metadata": {},
   "source": [
    "<a name='4'></a>\n",
    "## 4 - The Functional API"
   ]
  },
  {
   "cell_type": "markdown",
   "metadata": {},
   "source": [
    "Welcome to the second half of the assignment, where you'll use Keras' flexible [Functional API](https://www.tensorflow.org/guide/keras/functional) to build a ConvNet that can differentiate between 6 sign language digits. \n",
    "\n",
    "The Functional API can handle models with non-linear topology, shared layers, as well as layers with multiple inputs or outputs. Imagine that, where the Sequential API requires the model to move in a linear fashion through its layers, the Functional API allows much more flexibility. Where Sequential is a straight line, a Functional model is a graph, where the nodes of the layers can connect in many more ways than one. \n",
    "\n",
    "In the visual example below, the one possible direction of the movement Sequential model is shown in contrast to a skip connection, which is just one of the many ways a Functional model can be constructed. A skip connection, as you might have guessed, skips some layer in the network and feeds the output to a later layer in the network. Don't worry, you'll be spending more time with skip connections very soon! "
   ]
  },
  {
   "cell_type": "markdown",
   "metadata": {},
   "source": [
    "<img src=\"images/seq_vs_func.png\" style=\"width:350px;height:200px;\">"
   ]
  },
  {
   "cell_type": "markdown",
   "metadata": {},
   "source": [
    "<a name='4-1'></a>\n",
    "### 4.1 - Load the SIGNS Dataset\n",
    "\n",
    "As a reminder, the SIGNS dataset is a collection of 6 signs representing numbers from 0 to 5."
   ]
  },
  {
   "cell_type": "code",
   "execution_count": 11,
   "metadata": {},
   "outputs": [
    {
     "ename": "OSError",
     "evalue": "Unable to open file (file signature not found)",
     "output_type": "error",
     "traceback": [
      "\u001b[1;31m---------------------------------------------------------------------------\u001b[0m",
      "\u001b[1;31mOSError\u001b[0m                                   Traceback (most recent call last)",
      "\u001b[1;32m<ipython-input-11-366606ded130>\u001b[0m in \u001b[0;36m<module>\u001b[1;34m\u001b[0m\n\u001b[0;32m      1\u001b[0m \u001b[1;31m# Loading the data (signs)\u001b[0m\u001b[1;33m\u001b[0m\u001b[1;33m\u001b[0m\u001b[1;33m\u001b[0m\u001b[0m\n\u001b[1;32m----> 2\u001b[1;33m \u001b[0mX_train_orig\u001b[0m\u001b[1;33m,\u001b[0m \u001b[0mY_train_orig\u001b[0m\u001b[1;33m,\u001b[0m \u001b[0mX_test_orig\u001b[0m\u001b[1;33m,\u001b[0m \u001b[0mY_test_orig\u001b[0m\u001b[1;33m,\u001b[0m \u001b[0mclasses\u001b[0m \u001b[1;33m=\u001b[0m \u001b[0mload_signs_dataset\u001b[0m\u001b[1;33m(\u001b[0m\u001b[1;33m)\u001b[0m\u001b[1;33m\u001b[0m\u001b[1;33m\u001b[0m\u001b[0m\n\u001b[0m",
      "\u001b[1;32m~\\Desktop\\C4W1A2\\cnn_utils.py\u001b[0m in \u001b[0;36mload_signs_dataset\u001b[1;34m()\u001b[0m\n\u001b[0;32m     24\u001b[0m \u001b[1;33m\u001b[0m\u001b[0m\n\u001b[0;32m     25\u001b[0m \u001b[1;32mdef\u001b[0m \u001b[0mload_signs_dataset\u001b[0m\u001b[1;33m(\u001b[0m\u001b[1;33m)\u001b[0m\u001b[1;33m:\u001b[0m\u001b[1;33m\u001b[0m\u001b[1;33m\u001b[0m\u001b[0m\n\u001b[1;32m---> 26\u001b[1;33m     \u001b[0mtrain_dataset\u001b[0m \u001b[1;33m=\u001b[0m \u001b[0mh5py\u001b[0m\u001b[1;33m.\u001b[0m\u001b[0mFile\u001b[0m\u001b[1;33m(\u001b[0m\u001b[1;34m'datasets/train_signs.h5'\u001b[0m\u001b[1;33m,\u001b[0m \u001b[1;34m\"r\"\u001b[0m\u001b[1;33m)\u001b[0m\u001b[1;33m\u001b[0m\u001b[1;33m\u001b[0m\u001b[0m\n\u001b[0m\u001b[0;32m     27\u001b[0m     \u001b[0mtrain_set_x_orig\u001b[0m \u001b[1;33m=\u001b[0m \u001b[0mnp\u001b[0m\u001b[1;33m.\u001b[0m\u001b[0marray\u001b[0m\u001b[1;33m(\u001b[0m\u001b[0mtrain_dataset\u001b[0m\u001b[1;33m[\u001b[0m\u001b[1;34m\"train_set_x\"\u001b[0m\u001b[1;33m]\u001b[0m\u001b[1;33m[\u001b[0m\u001b[1;33m:\u001b[0m\u001b[1;33m]\u001b[0m\u001b[1;33m)\u001b[0m \u001b[1;31m# your train set features\u001b[0m\u001b[1;33m\u001b[0m\u001b[1;33m\u001b[0m\u001b[0m\n\u001b[0;32m     28\u001b[0m     \u001b[0mtrain_set_y_orig\u001b[0m \u001b[1;33m=\u001b[0m \u001b[0mnp\u001b[0m\u001b[1;33m.\u001b[0m\u001b[0marray\u001b[0m\u001b[1;33m(\u001b[0m\u001b[0mtrain_dataset\u001b[0m\u001b[1;33m[\u001b[0m\u001b[1;34m\"train_set_y\"\u001b[0m\u001b[1;33m]\u001b[0m\u001b[1;33m[\u001b[0m\u001b[1;33m:\u001b[0m\u001b[1;33m]\u001b[0m\u001b[1;33m)\u001b[0m \u001b[1;31m# your train set labels\u001b[0m\u001b[1;33m\u001b[0m\u001b[1;33m\u001b[0m\u001b[0m\n",
      "\u001b[1;32mF:\\programingSoftware\\anaconda3\\lib\\site-packages\\h5py\\_hl\\files.py\u001b[0m in \u001b[0;36m__init__\u001b[1;34m(self, name, mode, driver, libver, userblock_size, swmr, rdcc_nslots, rdcc_nbytes, rdcc_w0, track_order, **kwds)\u001b[0m\n\u001b[0;32m    404\u001b[0m             \u001b[1;32mwith\u001b[0m \u001b[0mphil\u001b[0m\u001b[1;33m:\u001b[0m\u001b[1;33m\u001b[0m\u001b[1;33m\u001b[0m\u001b[0m\n\u001b[0;32m    405\u001b[0m                 \u001b[0mfapl\u001b[0m \u001b[1;33m=\u001b[0m \u001b[0mmake_fapl\u001b[0m\u001b[1;33m(\u001b[0m\u001b[0mdriver\u001b[0m\u001b[1;33m,\u001b[0m \u001b[0mlibver\u001b[0m\u001b[1;33m,\u001b[0m \u001b[0mrdcc_nslots\u001b[0m\u001b[1;33m,\u001b[0m \u001b[0mrdcc_nbytes\u001b[0m\u001b[1;33m,\u001b[0m \u001b[0mrdcc_w0\u001b[0m\u001b[1;33m,\u001b[0m \u001b[1;33m**\u001b[0m\u001b[0mkwds\u001b[0m\u001b[1;33m)\u001b[0m\u001b[1;33m\u001b[0m\u001b[1;33m\u001b[0m\u001b[0m\n\u001b[1;32m--> 406\u001b[1;33m                 fid = make_fid(name, mode, userblock_size,\n\u001b[0m\u001b[0;32m    407\u001b[0m                                \u001b[0mfapl\u001b[0m\u001b[1;33m,\u001b[0m \u001b[0mfcpl\u001b[0m\u001b[1;33m=\u001b[0m\u001b[0mmake_fcpl\u001b[0m\u001b[1;33m(\u001b[0m\u001b[0mtrack_order\u001b[0m\u001b[1;33m=\u001b[0m\u001b[0mtrack_order\u001b[0m\u001b[1;33m)\u001b[0m\u001b[1;33m,\u001b[0m\u001b[1;33m\u001b[0m\u001b[1;33m\u001b[0m\u001b[0m\n\u001b[0;32m    408\u001b[0m                                swmr=swmr)\n",
      "\u001b[1;32mF:\\programingSoftware\\anaconda3\\lib\\site-packages\\h5py\\_hl\\files.py\u001b[0m in \u001b[0;36mmake_fid\u001b[1;34m(name, mode, userblock_size, fapl, fcpl, swmr)\u001b[0m\n\u001b[0;32m    171\u001b[0m         \u001b[1;32mif\u001b[0m \u001b[0mswmr\u001b[0m \u001b[1;32mand\u001b[0m \u001b[0mswmr_support\u001b[0m\u001b[1;33m:\u001b[0m\u001b[1;33m\u001b[0m\u001b[1;33m\u001b[0m\u001b[0m\n\u001b[0;32m    172\u001b[0m             \u001b[0mflags\u001b[0m \u001b[1;33m|=\u001b[0m \u001b[0mh5f\u001b[0m\u001b[1;33m.\u001b[0m\u001b[0mACC_SWMR_READ\u001b[0m\u001b[1;33m\u001b[0m\u001b[1;33m\u001b[0m\u001b[0m\n\u001b[1;32m--> 173\u001b[1;33m         \u001b[0mfid\u001b[0m \u001b[1;33m=\u001b[0m \u001b[0mh5f\u001b[0m\u001b[1;33m.\u001b[0m\u001b[0mopen\u001b[0m\u001b[1;33m(\u001b[0m\u001b[0mname\u001b[0m\u001b[1;33m,\u001b[0m \u001b[0mflags\u001b[0m\u001b[1;33m,\u001b[0m \u001b[0mfapl\u001b[0m\u001b[1;33m=\u001b[0m\u001b[0mfapl\u001b[0m\u001b[1;33m)\u001b[0m\u001b[1;33m\u001b[0m\u001b[1;33m\u001b[0m\u001b[0m\n\u001b[0m\u001b[0;32m    174\u001b[0m     \u001b[1;32melif\u001b[0m \u001b[0mmode\u001b[0m \u001b[1;33m==\u001b[0m \u001b[1;34m'r+'\u001b[0m\u001b[1;33m:\u001b[0m\u001b[1;33m\u001b[0m\u001b[1;33m\u001b[0m\u001b[0m\n\u001b[0;32m    175\u001b[0m         \u001b[0mfid\u001b[0m \u001b[1;33m=\u001b[0m \u001b[0mh5f\u001b[0m\u001b[1;33m.\u001b[0m\u001b[0mopen\u001b[0m\u001b[1;33m(\u001b[0m\u001b[0mname\u001b[0m\u001b[1;33m,\u001b[0m \u001b[0mh5f\u001b[0m\u001b[1;33m.\u001b[0m\u001b[0mACC_RDWR\u001b[0m\u001b[1;33m,\u001b[0m \u001b[0mfapl\u001b[0m\u001b[1;33m=\u001b[0m\u001b[0mfapl\u001b[0m\u001b[1;33m)\u001b[0m\u001b[1;33m\u001b[0m\u001b[1;33m\u001b[0m\u001b[0m\n",
      "\u001b[1;32mh5py\\_objects.pyx\u001b[0m in \u001b[0;36mh5py._objects.with_phil.wrapper\u001b[1;34m()\u001b[0m\n",
      "\u001b[1;32mh5py\\_objects.pyx\u001b[0m in \u001b[0;36mh5py._objects.with_phil.wrapper\u001b[1;34m()\u001b[0m\n",
      "\u001b[1;32mh5py\\h5f.pyx\u001b[0m in \u001b[0;36mh5py.h5f.open\u001b[1;34m()\u001b[0m\n",
      "\u001b[1;31mOSError\u001b[0m: Unable to open file (file signature not found)"
     ]
    }
   ],
   "source": [
    "# Loading the data (signs)\n",
    "X_train_orig, Y_train_orig, X_test_orig, Y_test_orig, classes = load_signs_dataset()"
   ]
  },
  {
   "cell_type": "markdown",
   "metadata": {},
   "source": [
    "<img src=\"images/SIGNS.png\" style=\"width:800px;height:300px;\">\n",
    "\n",
    "The next cell will show you an example of a labelled image in the dataset. Feel free to change the value of `index` below and re-run to see different examples. "
   ]
  },
  {
   "cell_type": "code",
   "execution_count": null,
   "metadata": {},
   "outputs": [],
   "source": [
    "# Example of an image from the dataset\n",
    "index = 25\n",
    "plt.imshow(X_train_orig[index])\n",
    "print (\"y = \" + str(np.squeeze(Y_train_orig[:, index])))"
   ]
  },
  {
   "cell_type": "markdown",
   "metadata": {},
   "source": [
    "<a name='4-2'></a>\n",
    "### 4.2 - Split the Data into Train/Test Sets\n",
    "\n",
    "In Course 2, you built a fully-connected network for this dataset. But since this is an image dataset, it is more natural to apply a ConvNet to it.\n",
    "\n",
    "To get started, let's examine the shapes of your data. "
   ]
  },
  {
   "cell_type": "code",
   "execution_count": 12,
   "metadata": {},
   "outputs": [
    {
     "name": "stdout",
     "output_type": "stream",
     "text": [
      "number of training examples = 600\n",
      "number of test examples = 150\n",
      "X_train shape: (600, 64, 64, 3)\n",
      "Y_train shape: (600, 6)\n",
      "X_test shape: (150, 64, 64, 3)\n",
      "Y_test shape: (150, 6)\n"
     ]
    }
   ],
   "source": [
    "X_train = X_train_orig/255.\n",
    "X_test = X_test_orig/255.\n",
    "Y_train = convert_to_one_hot(Y_train_orig, 6).T\n",
    "Y_test = convert_to_one_hot(Y_test_orig, 6).T\n",
    "print (\"number of training examples = \" + str(X_train.shape[0]))\n",
    "print (\"number of test examples = \" + str(X_test.shape[0]))\n",
    "print (\"X_train shape: \" + str(X_train.shape))\n",
    "print (\"Y_train shape: \" + str(Y_train.shape))\n",
    "print (\"X_test shape: \" + str(X_test.shape))\n",
    "print (\"Y_test shape: \" + str(Y_test.shape))"
   ]
  },
  {
   "cell_type": "markdown",
   "metadata": {},
   "source": [
    "<a name='4-3'></a>\n",
    "### 4.3 - Forward Propagation\n",
    "\n",
    "In TensorFlow, there are built-in functions that implement the convolution steps for you. By now, you should be familiar with how TensorFlow builds computational graphs. In the [Functional API](https://www.tensorflow.org/guide/keras/functional), you create a graph of layers. This is what allows such great flexibility.\n",
    "\n",
    "\n",
    "\n",
    "However, the following model could also be defined using the Sequential API since the information flow is on a single line. But don't deviate. What we want you to learn is to use the functional API.\n",
    "\n",
    "\n",
    "Begin building your graph of layers by creating an input node that functions as a callable object:\n",
    "\n",
    "- **input_img = tf.keras.Input(shape=input_shape):** \n",
    "\n",
    "Then, create a new node in the graph of layers by calling a layer on the `input_img` object: \n",
    "\n",
    "- **tf.keras.layers.Conv2D(filters= ... , kernel_size= ... , padding='same')(input_img):** Read the full documentation on [Conv2D](https://www.tensorflow.org/api_docs/python/tf/keras/layers/Conv2D).\n",
    "\n",
    "- **tf.keras.layers.MaxPool2D(pool_size=(f, f), strides=(s, s), padding='same'):** `MaxPool2D()` downsamples your input using a window of size (f, f) and strides of size (s, s) to carry out max pooling over each window.  For max pooling, you usually operate on a single example at a time and a single channel at a time. Read the full documentation on [MaxPool2D](https://www.tensorflow.org/api_docs/python/tf/keras/layers/MaxPool2D).\n",
    "\n",
    "- **tf.keras.layers.ReLU():** computes the elementwise ReLU of Z (which can be any shape). You can read the full documentation on [ReLU](https://www.tensorflow.org/api_docs/python/tf/keras/layers/ReLU).\n",
    "\n",
    "- **tf.keras.layers.Flatten()**: given a tensor \"P\", this function takes each training (or test) example in the batch and flattens it into a 1D vector.  \n",
    "\n",
    "    * If a tensor P has the shape (batch_size,h,w,c), it returns a flattened tensor with shape (batch_size, k), where $k=h \\times w \\times c$.  \"k\" equals the product of all the dimension sizes other than the first dimension.\n",
    "    \n",
    "    * For example, given a tensor with dimensions [100, 2, 3, 4], it flattens the tensor to be of shape [100, 24], where 24 = 2 * 3 * 4.  You can read the full documentation on [Flatten](https://www.tensorflow.org/api_docs/python/tf/keras/layers/Flatten).\n",
    "\n",
    "- **tf.keras.layers.Dense(units= ... , activation='softmax')(F):** given the flattened input F, it returns the output computed using a fully connected layer. You can read the full documentation on [Dense](https://www.tensorflow.org/api_docs/python/tf/keras/layers/Dense).\n",
    "\n",
    "In the last function above (`tf.keras.layers.Dense()`), the fully connected layer automatically initializes weights in the graph and keeps on training them as you train the model. Hence, you did not need to initialize those weights when initializing the parameters.\n",
    "\n",
    "Lastly, before creating the model, you'll need to define the output using the last of the function's compositions (in this example, a Dense layer): \n",
    "\n",
    "- **outputs = tf.keras.layers.Dense(units=6, activation='softmax')(F)**\n",
    "\n",
    "\n",
    "#### Window, kernel, filter, pool\n",
    "\n",
    "The words \"kernel\" and \"filter\" are used to refer to the same thing. The word \"filter\" accounts for the amount of \"kernels\" that will be used in a single convolution layer. \"Pool\" is the name of the operation that takes the max or average value of the kernels. \n",
    "\n",
    "This is why the parameter `pool_size` refers to `kernel_size`, and you use `(f,f)` to refer to the filter size. \n",
    "\n",
    "Pool size and kernel size refer to the same thing in different objects - They refer to the shape of the window where the operation takes place. "
   ]
  },
  {
   "cell_type": "markdown",
   "metadata": {},
   "source": [
    "<a name='ex-2'></a>\n",
    "### Exercise 2 - convolutional_model\n",
    "\n",
    "Implement the `convolutional_model` function below to build the following model: `CONV2D -> RELU -> MAXPOOL -> CONV2D -> RELU -> MAXPOOL -> FLATTEN -> DENSE`. Use the functions above! \n",
    "\n",
    "Also, plug in the following parameters for all the steps:\n",
    "\n",
    " - [Conv2D](https://www.tensorflow.org/api_docs/python/tf/keras/layers/Conv2D): Use 8 4 by 4 filters, stride 1, padding is \"SAME\"\n",
    " - [ReLU](https://www.tensorflow.org/api_docs/python/tf/keras/layers/ReLU)\n",
    " - [MaxPool2D](https://www.tensorflow.org/api_docs/python/tf/keras/layers/MaxPool2D): Use an 8 by 8 filter size and an 8 by 8 stride, padding is \"SAME\"\n",
    " - **Conv2D**: Use 16 2 by 2 filters, stride 1, padding is \"SAME\"\n",
    " - **ReLU**\n",
    " - **MaxPool2D**: Use a 4 by 4 filter size and a 4 by 4 stride, padding is \"SAME\"\n",
    " - [Flatten](https://www.tensorflow.org/api_docs/python/tf/keras/layers/Flatten) the previous output.\n",
    " - Fully-connected ([Dense](https://www.tensorflow.org/api_docs/python/tf/keras/layers/Dense)) layer: Apply a fully connected layer with 6 neurons and a softmax activation. "
   ]
  },
  {
   "cell_type": "code",
   "execution_count": 13,
   "metadata": {
    "deletable": false,
    "nbgrader": {
     "cell_type": "code",
     "checksum": "f58643806aa8380c96225fc8b4c5e7aa",
     "grade": false,
     "grade_id": "cell-dac51744a9e03f51",
     "locked": false,
     "schema_version": 3,
     "solution": true,
     "task": false
    }
   },
   "outputs": [],
   "source": [
    "# GRADED FUNCTION: convolutional_model\n",
    "\n",
    "def convolutional_model(input_shape):\n",
    "    \"\"\"\n",
    "    Implements the forward propagation for the model:\n",
    "    CONV2D -> RELU -> MAXPOOL -> CONV2D -> RELU -> MAXPOOL -> FLATTEN -> DENSE\n",
    "    \n",
    "    Note that for simplicity and grading purposes, you'll hard-code some values\n",
    "    such as the stride and kernel (filter) sizes. \n",
    "    Normally, functions should take these values as function parameters.\n",
    "    \n",
    "    Arguments:\n",
    "    input_img -- input dataset, of shape (input_shape)\n",
    "\n",
    "    Returns:\n",
    "    model -- TF Keras model (object containing the information for the entire training process) \n",
    "    \"\"\"\n",
    "\n",
    "    input_img = tf.keras.Input(shape=input_shape)\n",
    "    ## CONV2D: 8 filters 4x4, stride of 1, padding 'SAME'\n",
    "    Z1 = tf.keras.layers.Conv2D(filters = 8, kernel_size = (4, 4), padding='same')(input_img)\n",
    "    ## RELU\n",
    "    A1 = tf.keras.layers.ReLU()(Z1)\n",
    "    ## MAXPOOL: window 8x8, stride 8, padding 'SAME'\n",
    "    P1 = tf.keras.layers.MaxPool2D(pool_size=(8,8), strides=(8,8), padding='same')(A1)\n",
    "    ## CONV2D: 16 filters 2x2, stride 1, padding 'SAME'\n",
    "    Z2 = tf.keras.layers.Conv2D(filters = 16, kernel_size = (2, 2), padding = 'same')(P1)\n",
    "    ## RELU\n",
    "    A2 = tf.keras.layers.ReLU()(Z2)\n",
    "    ## MAXPOOL: window 4x4, stride 4, padding 'SAME'\n",
    "    P2 = tf.keras.layers.MaxPool2D(pool_size=(4,4), strides=(4,4), padding='same')(A2)\n",
    "    ## FLATTEN\n",
    "    F = tf.keras.layers.Flatten()(P2)\n",
    "    ## Dense layer\n",
    "    ## 6 neurons in output layer. Hint: one of the arguments should be \"activation='softmax'\" \n",
    "    outputs = tf.keras.layers.Dense(units=6, activation='softmax')(F)\n",
    "    # YOUR CODE STARTS HERE\n",
    "    \n",
    "    \n",
    "    # YOUR CODE ENDS HERE\n",
    "    model = tf.keras.Model(inputs=input_img, outputs=outputs)\n",
    "    return model"
   ]
  },
  {
   "cell_type": "code",
   "execution_count": 14,
   "metadata": {
    "deletable": false,
    "editable": false,
    "nbgrader": {
     "cell_type": "code",
     "checksum": "483d626949930a0b0ef20997e7c6ba72",
     "grade": true,
     "grade_id": "cell-45d22e92042174c9",
     "locked": true,
     "points": 10,
     "schema_version": 3,
     "solution": false,
     "task": false
    }
   },
   "outputs": [
    {
     "name": "stdout",
     "output_type": "stream",
     "text": [
      "Model: \"model\"\n",
      "_________________________________________________________________\n",
      "Layer (type)                 Output Shape              Param #   \n",
      "=================================================================\n",
      "input_1 (InputLayer)         [(None, 64, 64, 3)]       0         \n",
      "_________________________________________________________________\n",
      "conv2d_2 (Conv2D)            (None, 64, 64, 8)         392       \n",
      "_________________________________________________________________\n",
      "re_lu_2 (ReLU)               (None, 64, 64, 8)         0         \n",
      "_________________________________________________________________\n",
      "max_pooling2d_2 (MaxPooling2 (None, 8, 8, 8)           0         \n",
      "_________________________________________________________________\n",
      "conv2d_3 (Conv2D)            (None, 8, 8, 16)          528       \n",
      "_________________________________________________________________\n",
      "re_lu_3 (ReLU)               (None, 8, 8, 16)          0         \n",
      "_________________________________________________________________\n",
      "max_pooling2d_3 (MaxPooling2 (None, 2, 2, 16)          0         \n",
      "_________________________________________________________________\n",
      "flatten_2 (Flatten)          (None, 64)                0         \n",
      "_________________________________________________________________\n",
      "dense_2 (Dense)              (None, 6)                 390       \n",
      "=================================================================\n",
      "Total params: 1,310\n",
      "Trainable params: 1,310\n",
      "Non-trainable params: 0\n",
      "_________________________________________________________________\n",
      "\u001b[32mAll tests passed!\u001b[0m\n"
     ]
    }
   ],
   "source": [
    "conv_model = convolutional_model((64, 64, 3))\n",
    "conv_model.compile(optimizer='adam',\n",
    "                  loss='categorical_crossentropy',\n",
    "                  metrics=['accuracy'])\n",
    "conv_model.summary()\n",
    "    \n",
    "output = [['InputLayer', [(None, 64, 64, 3)], 0],\n",
    "        ['Conv2D', (None, 64, 64, 8), 392, 'same', 'linear', 'GlorotUniform'],\n",
    "        ['ReLU', (None, 64, 64, 8), 0],\n",
    "        ['MaxPooling2D', (None, 8, 8, 8), 0, (8, 8), (8, 8), 'same'],\n",
    "        ['Conv2D', (None, 8, 8, 16), 528, 'same', 'linear', 'GlorotUniform'],\n",
    "        ['ReLU', (None, 8, 8, 16), 0],\n",
    "        ['MaxPooling2D', (None, 2, 2, 16), 0, (4, 4), (4, 4), 'same'],\n",
    "        ['Flatten', (None, 64), 0],\n",
    "        ['Dense', (None, 6), 390, 'softmax']]\n",
    "    \n",
    "comparator(summary(conv_model), output)"
   ]
  },
  {
   "cell_type": "markdown",
   "metadata": {},
   "source": [
    "Both the Sequential and Functional APIs return a TF Keras model object. The only difference is how inputs are handled inside the object model! "
   ]
  },
  {
   "cell_type": "markdown",
   "metadata": {},
   "source": [
    "<a name='4-4'></a>\n",
    "### 4.4 - Train the Model"
   ]
  },
  {
   "cell_type": "code",
   "execution_count": 15,
   "metadata": {
    "scrolled": false
   },
   "outputs": [
    {
     "name": "stdout",
     "output_type": "stream",
     "text": [
      "Epoch 1/100\n",
      "10/10 [==============================] - 1s 52ms/step - loss: 1.7629 - accuracy: 0.0785 - val_loss: 1.3252 - val_accuracy: 0.5600\n",
      "Epoch 2/100\n",
      "10/10 [==============================] - 0s 37ms/step - loss: 1.2098 - accuracy: 0.5186 - val_loss: 0.9070 - val_accuracy: 0.5200\n",
      "Epoch 3/100\n",
      "10/10 [==============================] - 0s 36ms/step - loss: 0.8517 - accuracy: 0.4867 - val_loss: 0.7452 - val_accuracy: 0.4467\n",
      "Epoch 4/100\n",
      "10/10 [==============================] - 0s 38ms/step - loss: 0.7312 - accuracy: 0.4982 - val_loss: 0.7115 - val_accuracy: 0.4467\n",
      "Epoch 5/100\n",
      "10/10 [==============================] - 0s 38ms/step - loss: 0.7063 - accuracy: 0.5234 - val_loss: 0.6971 - val_accuracy: 0.4867\n",
      "Epoch 6/100\n",
      "10/10 [==============================] - 0s 38ms/step - loss: 0.6963 - accuracy: 0.5025 - val_loss: 0.6928 - val_accuracy: 0.5400\n",
      "Epoch 7/100\n",
      "10/10 [==============================] - 0s 40ms/step - loss: 0.6924 - accuracy: 0.5192 - val_loss: 0.6890 - val_accuracy: 0.5733\n",
      "Epoch 8/100\n",
      "10/10 [==============================] - 0s 38ms/step - loss: 0.6888 - accuracy: 0.5477 - val_loss: 0.6868 - val_accuracy: 0.5733\n",
      "Epoch 9/100\n",
      "10/10 [==============================] - 0s 38ms/step - loss: 0.6859 - accuracy: 0.5705 - val_loss: 0.6835 - val_accuracy: 0.5867\n",
      "Epoch 10/100\n",
      "10/10 [==============================] - 0s 40ms/step - loss: 0.6832 - accuracy: 0.6039 - val_loss: 0.6813 - val_accuracy: 0.5867\n",
      "Epoch 11/100\n",
      "10/10 [==============================] - 0s 40ms/step - loss: 0.6810 - accuracy: 0.6002 - val_loss: 0.6787 - val_accuracy: 0.5933\n",
      "Epoch 12/100\n",
      "10/10 [==============================] - 0s 39ms/step - loss: 0.6786 - accuracy: 0.6146 - val_loss: 0.6774 - val_accuracy: 0.6067\n",
      "Epoch 13/100\n",
      "10/10 [==============================] - 0s 40ms/step - loss: 0.6762 - accuracy: 0.6172 - val_loss: 0.6744 - val_accuracy: 0.6133\n",
      "Epoch 14/100\n",
      "10/10 [==============================] - 0s 39ms/step - loss: 0.6728 - accuracy: 0.6255 - val_loss: 0.6728 - val_accuracy: 0.6133\n",
      "Epoch 15/100\n",
      "10/10 [==============================] - 0s 40ms/step - loss: 0.6700 - accuracy: 0.6274 - val_loss: 0.6704 - val_accuracy: 0.6200\n",
      "Epoch 16/100\n",
      "10/10 [==============================] - 0s 39ms/step - loss: 0.6669 - accuracy: 0.6306 - val_loss: 0.6676 - val_accuracy: 0.6200\n",
      "Epoch 17/100\n",
      "10/10 [==============================] - 0s 38ms/step - loss: 0.6634 - accuracy: 0.6446 - val_loss: 0.6657 - val_accuracy: 0.6333\n",
      "Epoch 18/100\n",
      "10/10 [==============================] - 0s 39ms/step - loss: 0.6598 - accuracy: 0.6572 - val_loss: 0.6630 - val_accuracy: 0.6400\n",
      "Epoch 19/100\n",
      "10/10 [==============================] - 0s 40ms/step - loss: 0.6559 - accuracy: 0.6670 - val_loss: 0.6612 - val_accuracy: 0.6467\n",
      "Epoch 20/100\n",
      "10/10 [==============================] - 0s 39ms/step - loss: 0.6519 - accuracy: 0.6782 - val_loss: 0.6579 - val_accuracy: 0.6733\n",
      "Epoch 21/100\n",
      "10/10 [==============================] - 0s 37ms/step - loss: 0.6472 - accuracy: 0.6955 - val_loss: 0.6530 - val_accuracy: 0.6933\n",
      "Epoch 22/100\n",
      "10/10 [==============================] - 0s 38ms/step - loss: 0.6419 - accuracy: 0.7092 - val_loss: 0.6491 - val_accuracy: 0.7000\n",
      "Epoch 23/100\n",
      "10/10 [==============================] - 0s 41ms/step - loss: 0.6366 - accuracy: 0.7277 - val_loss: 0.6453 - val_accuracy: 0.7067\n",
      "Epoch 24/100\n",
      "10/10 [==============================] - 0s 37ms/step - loss: 0.6303 - accuracy: 0.7652 - val_loss: 0.6397 - val_accuracy: 0.7067\n",
      "Epoch 25/100\n",
      "10/10 [==============================] - 0s 41ms/step - loss: 0.6230 - accuracy: 0.7769 - val_loss: 0.6334 - val_accuracy: 0.7000\n",
      "Epoch 26/100\n",
      "10/10 [==============================] - 0s 37ms/step - loss: 0.6151 - accuracy: 0.7777 - val_loss: 0.6284 - val_accuracy: 0.6867\n",
      "Epoch 27/100\n",
      "10/10 [==============================] - 0s 40ms/step - loss: 0.6074 - accuracy: 0.7819 - val_loss: 0.6239 - val_accuracy: 0.6733\n",
      "Epoch 28/100\n",
      "10/10 [==============================] - 0s 40ms/step - loss: 0.5995 - accuracy: 0.7854 - val_loss: 0.6158 - val_accuracy: 0.6800\n",
      "Epoch 29/100\n",
      "10/10 [==============================] - 0s 39ms/step - loss: 0.5900 - accuracy: 0.7877 - val_loss: 0.6106 - val_accuracy: 0.6733\n",
      "Epoch 30/100\n",
      "10/10 [==============================] - 0s 37ms/step - loss: 0.5818 - accuracy: 0.7909 - val_loss: 0.6057 - val_accuracy: 0.6733\n",
      "Epoch 31/100\n",
      "10/10 [==============================] - 0s 41ms/step - loss: 0.5736 - accuracy: 0.7850 - val_loss: 0.6001 - val_accuracy: 0.6667\n",
      "Epoch 32/100\n",
      "10/10 [==============================] - 0s 39ms/step - loss: 0.5652 - accuracy: 0.7832 - val_loss: 0.5934 - val_accuracy: 0.6867\n",
      "Epoch 33/100\n",
      "10/10 [==============================] - 0s 39ms/step - loss: 0.5563 - accuracy: 0.7835 - val_loss: 0.5874 - val_accuracy: 0.6867\n",
      "Epoch 34/100\n",
      "10/10 [==============================] - 0s 40ms/step - loss: 0.5479 - accuracy: 0.7803 - val_loss: 0.5837 - val_accuracy: 0.6867\n",
      "Epoch 35/100\n",
      "10/10 [==============================] - 0s 38ms/step - loss: 0.5406 - accuracy: 0.7752 - val_loss: 0.5789 - val_accuracy: 0.6867\n",
      "Epoch 36/100\n",
      "10/10 [==============================] - 0s 36ms/step - loss: 0.5328 - accuracy: 0.7789 - val_loss: 0.5735 - val_accuracy: 0.6867\n",
      "Epoch 37/100\n",
      "10/10 [==============================] - 0s 41ms/step - loss: 0.5250 - accuracy: 0.7766 - val_loss: 0.5690 - val_accuracy: 0.6867\n",
      "Epoch 38/100\n",
      "10/10 [==============================] - 0s 40ms/step - loss: 0.5176 - accuracy: 0.7733 - val_loss: 0.5640 - val_accuracy: 0.6867\n",
      "Epoch 39/100\n",
      "10/10 [==============================] - 0s 39ms/step - loss: 0.5101 - accuracy: 0.7733 - val_loss: 0.5580 - val_accuracy: 0.6867\n",
      "Epoch 40/100\n",
      "10/10 [==============================] - 0s 39ms/step - loss: 0.5024 - accuracy: 0.7733 - val_loss: 0.5511 - val_accuracy: 0.6867\n",
      "Epoch 41/100\n",
      "10/10 [==============================] - 0s 38ms/step - loss: 0.4941 - accuracy: 0.7775 - val_loss: 0.5449 - val_accuracy: 0.6933\n",
      "Epoch 42/100\n",
      "10/10 [==============================] - 0s 38ms/step - loss: 0.4865 - accuracy: 0.7853 - val_loss: 0.5403 - val_accuracy: 0.6933\n",
      "Epoch 43/100\n",
      "10/10 [==============================] - 0s 41ms/step - loss: 0.4796 - accuracy: 0.7864 - val_loss: 0.5354 - val_accuracy: 0.6933\n",
      "Epoch 44/100\n",
      "10/10 [==============================] - 0s 40ms/step - loss: 0.4729 - accuracy: 0.7855 - val_loss: 0.5325 - val_accuracy: 0.6867\n",
      "Epoch 45/100\n",
      "10/10 [==============================] - 0s 38ms/step - loss: 0.4673 - accuracy: 0.7890 - val_loss: 0.5275 - val_accuracy: 0.7000\n",
      "Epoch 46/100\n",
      "10/10 [==============================] - 0s 40ms/step - loss: 0.4607 - accuracy: 0.7946 - val_loss: 0.5226 - val_accuracy: 0.7000\n",
      "Epoch 47/100\n",
      "10/10 [==============================] - 0s 39ms/step - loss: 0.4543 - accuracy: 0.7989 - val_loss: 0.5181 - val_accuracy: 0.7000\n",
      "Epoch 48/100\n",
      "10/10 [==============================] - 0s 40ms/step - loss: 0.4481 - accuracy: 0.8011 - val_loss: 0.5140 - val_accuracy: 0.7067\n",
      "Epoch 49/100\n",
      "10/10 [==============================] - 0s 41ms/step - loss: 0.4423 - accuracy: 0.8088 - val_loss: 0.5081 - val_accuracy: 0.7267\n",
      "Epoch 50/100\n",
      "10/10 [==============================] - 0s 39ms/step - loss: 0.4358 - accuracy: 0.8154 - val_loss: 0.5054 - val_accuracy: 0.7267\n",
      "Epoch 51/100\n",
      "10/10 [==============================] - 0s 39ms/step - loss: 0.4310 - accuracy: 0.8160 - val_loss: 0.5006 - val_accuracy: 0.7267\n",
      "Epoch 52/100\n",
      "10/10 [==============================] - 0s 39ms/step - loss: 0.4252 - accuracy: 0.8171 - val_loss: 0.4962 - val_accuracy: 0.7267\n",
      "Epoch 53/100\n",
      "10/10 [==============================] - 0s 40ms/step - loss: 0.4198 - accuracy: 0.8207 - val_loss: 0.4921 - val_accuracy: 0.7267\n",
      "Epoch 54/100\n",
      "10/10 [==============================] - 0s 40ms/step - loss: 0.4146 - accuracy: 0.8228 - val_loss: 0.4884 - val_accuracy: 0.7267\n",
      "Epoch 55/100\n",
      "10/10 [==============================] - 0s 42ms/step - loss: 0.4097 - accuracy: 0.8257 - val_loss: 0.4864 - val_accuracy: 0.7200\n",
      "Epoch 56/100\n",
      "10/10 [==============================] - 0s 38ms/step - loss: 0.4056 - accuracy: 0.8268 - val_loss: 0.4836 - val_accuracy: 0.7267\n",
      "Epoch 57/100\n",
      "10/10 [==============================] - 0s 40ms/step - loss: 0.4012 - accuracy: 0.8268 - val_loss: 0.4794 - val_accuracy: 0.7267\n",
      "Epoch 58/100\n"
     ]
    },
    {
     "name": "stdout",
     "output_type": "stream",
     "text": [
      "10/10 [==============================] - 0s 41ms/step - loss: 0.3963 - accuracy: 0.8268 - val_loss: 0.4760 - val_accuracy: 0.7267\n",
      "Epoch 59/100\n",
      "10/10 [==============================] - 0s 39ms/step - loss: 0.3917 - accuracy: 0.8262 - val_loss: 0.4719 - val_accuracy: 0.7267\n",
      "Epoch 60/100\n",
      "10/10 [==============================] - 0s 39ms/step - loss: 0.3870 - accuracy: 0.8284 - val_loss: 0.4691 - val_accuracy: 0.7333\n",
      "Epoch 61/100\n",
      "10/10 [==============================] - 0s 40ms/step - loss: 0.3828 - accuracy: 0.8321 - val_loss: 0.4658 - val_accuracy: 0.7333\n",
      "Epoch 62/100\n",
      "10/10 [==============================] - 0s 39ms/step - loss: 0.3786 - accuracy: 0.8375 - val_loss: 0.4628 - val_accuracy: 0.7333\n",
      "Epoch 63/100\n",
      "10/10 [==============================] - 0s 37ms/step - loss: 0.3745 - accuracy: 0.8404 - val_loss: 0.4592 - val_accuracy: 0.7400\n",
      "Epoch 64/100\n",
      "10/10 [==============================] - 0s 36ms/step - loss: 0.3703 - accuracy: 0.8414 - val_loss: 0.4554 - val_accuracy: 0.7467\n",
      "Epoch 65/100\n",
      "10/10 [==============================] - 0s 37ms/step - loss: 0.3660 - accuracy: 0.8448 - val_loss: 0.4528 - val_accuracy: 0.7467\n",
      "Epoch 66/100\n",
      "10/10 [==============================] - 0s 37ms/step - loss: 0.3623 - accuracy: 0.8448 - val_loss: 0.4494 - val_accuracy: 0.7533\n",
      "Epoch 67/100\n",
      "10/10 [==============================] - 0s 40ms/step - loss: 0.3584 - accuracy: 0.8491 - val_loss: 0.4491 - val_accuracy: 0.7467\n",
      "Epoch 68/100\n",
      "10/10 [==============================] - 0s 38ms/step - loss: 0.3556 - accuracy: 0.8491 - val_loss: 0.4452 - val_accuracy: 0.7533\n",
      "Epoch 69/100\n",
      "10/10 [==============================] - 0s 37ms/step - loss: 0.3516 - accuracy: 0.8491 - val_loss: 0.4425 - val_accuracy: 0.7533\n",
      "Epoch 70/100\n",
      "10/10 [==============================] - 0s 39ms/step - loss: 0.3481 - accuracy: 0.8491 - val_loss: 0.4403 - val_accuracy: 0.7667\n",
      "Epoch 71/100\n",
      "10/10 [==============================] - 0s 37ms/step - loss: 0.3446 - accuracy: 0.8534 - val_loss: 0.4377 - val_accuracy: 0.7800\n",
      "Epoch 72/100\n",
      "10/10 [==============================] - 0s 37ms/step - loss: 0.3408 - accuracy: 0.8607 - val_loss: 0.4333 - val_accuracy: 0.7800\n",
      "Epoch 73/100\n",
      "10/10 [==============================] - 0s 39ms/step - loss: 0.3367 - accuracy: 0.8675 - val_loss: 0.4305 - val_accuracy: 0.7867\n",
      "Epoch 74/100\n",
      "10/10 [==============================] - 0s 38ms/step - loss: 0.3330 - accuracy: 0.8675 - val_loss: 0.4267 - val_accuracy: 0.7867\n",
      "Epoch 75/100\n",
      "10/10 [==============================] - 0s 40ms/step - loss: 0.3293 - accuracy: 0.8683 - val_loss: 0.4246 - val_accuracy: 0.7800\n",
      "Epoch 76/100\n",
      "10/10 [==============================] - 0s 39ms/step - loss: 0.3261 - accuracy: 0.8673 - val_loss: 0.4211 - val_accuracy: 0.7800\n",
      "Epoch 77/100\n",
      "10/10 [==============================] - 0s 40ms/step - loss: 0.3225 - accuracy: 0.8683 - val_loss: 0.4186 - val_accuracy: 0.7800\n",
      "Epoch 78/100\n",
      "10/10 [==============================] - 0s 38ms/step - loss: 0.3193 - accuracy: 0.8688 - val_loss: 0.4164 - val_accuracy: 0.7867\n",
      "Epoch 79/100\n",
      "10/10 [==============================] - 0s 40ms/step - loss: 0.3161 - accuracy: 0.8717 - val_loss: 0.4132 - val_accuracy: 0.7933\n",
      "Epoch 80/100\n",
      "10/10 [==============================] - 0s 38ms/step - loss: 0.3130 - accuracy: 0.8746 - val_loss: 0.4118 - val_accuracy: 0.7933\n",
      "Epoch 81/100\n",
      "10/10 [==============================] - 0s 37ms/step - loss: 0.3100 - accuracy: 0.8746 - val_loss: 0.4084 - val_accuracy: 0.7933\n",
      "Epoch 82/100\n",
      "10/10 [==============================] - 0s 38ms/step - loss: 0.3066 - accuracy: 0.8789 - val_loss: 0.4052 - val_accuracy: 0.8000\n",
      "Epoch 83/100\n",
      "10/10 [==============================] - 0s 38ms/step - loss: 0.3036 - accuracy: 0.8789 - val_loss: 0.4036 - val_accuracy: 0.8000\n",
      "Epoch 84/100\n",
      "10/10 [==============================] - 0s 39ms/step - loss: 0.3008 - accuracy: 0.8789 - val_loss: 0.3999 - val_accuracy: 0.8000\n",
      "Epoch 85/100\n",
      "10/10 [==============================] - 0s 39ms/step - loss: 0.2974 - accuracy: 0.8789 - val_loss: 0.3964 - val_accuracy: 0.8000\n",
      "Epoch 86/100\n",
      "10/10 [==============================] - 0s 36ms/step - loss: 0.2940 - accuracy: 0.8789 - val_loss: 0.3928 - val_accuracy: 0.8000\n",
      "Epoch 87/100\n",
      "10/10 [==============================] - 0s 37ms/step - loss: 0.2908 - accuracy: 0.8789 - val_loss: 0.3908 - val_accuracy: 0.8000\n",
      "Epoch 88/100\n",
      "10/10 [==============================] - 0s 36ms/step - loss: 0.2879 - accuracy: 0.8789 - val_loss: 0.3869 - val_accuracy: 0.8000\n",
      "Epoch 89/100\n",
      "10/10 [==============================] - 0s 37ms/step - loss: 0.2844 - accuracy: 0.8789 - val_loss: 0.3835 - val_accuracy: 0.8133\n",
      "Epoch 90/100\n",
      "10/10 [==============================] - 0s 41ms/step - loss: 0.2815 - accuracy: 0.8789 - val_loss: 0.3819 - val_accuracy: 0.8067\n",
      "Epoch 91/100\n",
      "10/10 [==============================] - 0s 39ms/step - loss: 0.2788 - accuracy: 0.8822 - val_loss: 0.3772 - val_accuracy: 0.8200\n",
      "Epoch 92/100\n",
      "10/10 [==============================] - 0s 38ms/step - loss: 0.2754 - accuracy: 0.8865 - val_loss: 0.3760 - val_accuracy: 0.8200\n",
      "Epoch 93/100\n",
      "10/10 [==============================] - 0s 38ms/step - loss: 0.2733 - accuracy: 0.8908 - val_loss: 0.3733 - val_accuracy: 0.8333\n",
      "Epoch 94/100\n",
      "10/10 [==============================] - 0s 39ms/step - loss: 0.2704 - accuracy: 0.8933 - val_loss: 0.3697 - val_accuracy: 0.8333\n",
      "Epoch 95/100\n",
      "10/10 [==============================] - 0s 39ms/step - loss: 0.2674 - accuracy: 0.8933 - val_loss: 0.3668 - val_accuracy: 0.8467\n",
      "Epoch 96/100\n",
      "10/10 [==============================] - 0s 38ms/step - loss: 0.2645 - accuracy: 0.8993 - val_loss: 0.3646 - val_accuracy: 0.8533\n",
      "Epoch 97/100\n",
      "10/10 [==============================] - 0s 38ms/step - loss: 0.2619 - accuracy: 0.8993 - val_loss: 0.3621 - val_accuracy: 0.8533\n",
      "Epoch 98/100\n",
      "10/10 [==============================] - 0s 38ms/step - loss: 0.2592 - accuracy: 0.9006 - val_loss: 0.3599 - val_accuracy: 0.8533\n",
      "Epoch 99/100\n",
      "10/10 [==============================] - 0s 37ms/step - loss: 0.2565 - accuracy: 0.9024 - val_loss: 0.3571 - val_accuracy: 0.8533\n",
      "Epoch 100/100\n",
      "10/10 [==============================] - 0s 39ms/step - loss: 0.2538 - accuracy: 0.9024 - val_loss: 0.3554 - val_accuracy: 0.8533\n"
     ]
    }
   ],
   "source": [
    "train_dataset = tf.data.Dataset.from_tensor_slices((X_train, Y_train)).batch(64)\n",
    "test_dataset = tf.data.Dataset.from_tensor_slices((X_test, Y_test)).batch(64)\n",
    "history = conv_model.fit(train_dataset, epochs=100, validation_data=test_dataset)"
   ]
  },
  {
   "cell_type": "markdown",
   "metadata": {},
   "source": [
    "<a name='5'></a>\n",
    "## 5 - History Object \n",
    "\n",
    "The history object is an output of the `.fit()` operation, and provides a record of all the loss and metric values in memory. It's stored as a dictionary that you can retrieve at `history.history`: "
   ]
  },
  {
   "cell_type": "code",
   "execution_count": 16,
   "metadata": {},
   "outputs": [
    {
     "data": {
      "text/plain": [
       "{'loss': [1.6557132005691528,\n",
       "  1.13245689868927,\n",
       "  0.8188991546630859,\n",
       "  0.7226558327674866,\n",
       "  0.7016952037811279,\n",
       "  0.6933022141456604,\n",
       "  0.6893392205238342,\n",
       "  0.6856278777122498,\n",
       "  0.6821931004524231,\n",
       "  0.6791159510612488,\n",
       "  0.6765422821044922,\n",
       "  0.6736462116241455,\n",
       "  0.6707684397697449,\n",
       "  0.667290985584259,\n",
       "  0.6640456914901733,\n",
       "  0.6605862379074097,\n",
       "  0.6568782329559326,\n",
       "  0.6531630754470825,\n",
       "  0.6489535570144653,\n",
       "  0.6443986296653748,\n",
       "  0.6393201351165771,\n",
       "  0.6338468194007874,\n",
       "  0.6277912855148315,\n",
       "  0.6205331087112427,\n",
       "  0.6122976541519165,\n",
       "  0.6037553548812866,\n",
       "  0.5949240922927856,\n",
       "  0.5858703255653381,\n",
       "  0.57603919506073,\n",
       "  0.5667630434036255,\n",
       "  0.5574020147323608,\n",
       "  0.5480213761329651,\n",
       "  0.5383894443511963,\n",
       "  0.5292716026306152,\n",
       "  0.5209521055221558,\n",
       "  0.5122986435890198,\n",
       "  0.504012942314148,\n",
       "  0.4959181845188141,\n",
       "  0.48786747455596924,\n",
       "  0.47994786500930786,\n",
       "  0.4718361496925354,\n",
       "  0.46434688568115234,\n",
       "  0.4574310779571533,\n",
       "  0.45066720247268677,\n",
       "  0.4445964992046356,\n",
       "  0.4380093514919281,\n",
       "  0.43179085850715637,\n",
       "  0.42572131752967834,\n",
       "  0.4199243485927582,\n",
       "  0.41389983892440796,\n",
       "  0.4088883101940155,\n",
       "  0.40327954292297363,\n",
       "  0.3980570435523987,\n",
       "  0.39303308725357056,\n",
       "  0.3883047103881836,\n",
       "  0.38411131501197815,\n",
       "  0.37968412041664124,\n",
       "  0.37501004338264465,\n",
       "  0.3706212639808655,\n",
       "  0.36612558364868164,\n",
       "  0.3621246814727783,\n",
       "  0.35794445872306824,\n",
       "  0.3539493680000305,\n",
       "  0.3499418795108795,\n",
       "  0.34591150283813477,\n",
       "  0.34228456020355225,\n",
       "  0.3386012315750122,\n",
       "  0.3353135287761688,\n",
       "  0.33158496022224426,\n",
       "  0.3281831741333008,\n",
       "  0.3247888684272766,\n",
       "  0.32116204500198364,\n",
       "  0.31743064522743225,\n",
       "  0.31386107206344604,\n",
       "  0.3105083405971527,\n",
       "  0.30730724334716797,\n",
       "  0.3040464222431183,\n",
       "  0.30096012353897095,\n",
       "  0.29791122674942017,\n",
       "  0.2949594557285309,\n",
       "  0.29204198718070984,\n",
       "  0.28893670439720154,\n",
       "  0.28612765669822693,\n",
       "  0.28324076533317566,\n",
       "  0.28010112047195435,\n",
       "  0.2769716680049896,\n",
       "  0.27407628297805786,\n",
       "  0.27124011516571045,\n",
       "  0.26817619800567627,\n",
       "  0.265578031539917,\n",
       "  0.26278817653656006,\n",
       "  0.25986525416374207,\n",
       "  0.2575967013835907,\n",
       "  0.25473424792289734,\n",
       "  0.25200432538986206,\n",
       "  0.24935398995876312,\n",
       "  0.24685661494731903,\n",
       "  0.24435190856456757,\n",
       "  0.24180495738983154,\n",
       "  0.23937790095806122],\n",
       " 'accuracy': [0.19333332777023315,\n",
       "  0.49666666984558105,\n",
       "  0.4633333384990692,\n",
       "  0.5083333253860474,\n",
       "  0.5450000166893005,\n",
       "  0.5316666960716248,\n",
       "  0.5550000071525574,\n",
       "  0.5933333039283752,\n",
       "  0.6166666746139526,\n",
       "  0.6383333206176758,\n",
       "  0.6349999904632568,\n",
       "  0.6433333158493042,\n",
       "  0.653333306312561,\n",
       "  0.6633333563804626,\n",
       "  0.6666666865348816,\n",
       "  0.67166668176651,\n",
       "  0.6833333373069763,\n",
       "  0.6916666626930237,\n",
       "  0.7016666531562805,\n",
       "  0.7049999833106995,\n",
       "  0.7183333039283752,\n",
       "  0.7333333492279053,\n",
       "  0.7566666603088379,\n",
       "  0.7833333611488342,\n",
       "  0.8033333420753479,\n",
       "  0.8116666674613953,\n",
       "  0.8149999976158142,\n",
       "  0.8216666579246521,\n",
       "  0.824999988079071,\n",
       "  0.8233333230018616,\n",
       "  0.8216666579246521,\n",
       "  0.8216666579246521,\n",
       "  0.8216666579246521,\n",
       "  0.8199999928474426,\n",
       "  0.8149999976158142,\n",
       "  0.8149999976158142,\n",
       "  0.8100000023841858,\n",
       "  0.8066666722297668,\n",
       "  0.8066666722297668,\n",
       "  0.8066666722297668,\n",
       "  0.8116666674613953,\n",
       "  0.8183333277702332,\n",
       "  0.8199999928474426,\n",
       "  0.8183333277702332,\n",
       "  0.8183333277702332,\n",
       "  0.824999988079071,\n",
       "  0.8266666531562805,\n",
       "  0.8299999833106995,\n",
       "  0.8349999785423279,\n",
       "  0.8399999737739563,\n",
       "  0.8433333039283752,\n",
       "  0.8450000286102295,\n",
       "  0.8483333587646484,\n",
       "  0.8500000238418579,\n",
       "  0.8516666889190674,\n",
       "  0.8533333539962769,\n",
       "  0.8533333539962769,\n",
       "  0.8533333539962769,\n",
       "  0.8516666889190674,\n",
       "  0.8533333539962769,\n",
       "  0.8566666841506958,\n",
       "  0.8616666793823242,\n",
       "  0.8633333444595337,\n",
       "  0.8650000095367432,\n",
       "  0.8683333396911621,\n",
       "  0.8683333396911621,\n",
       "  0.8700000047683716,\n",
       "  0.8700000047683716,\n",
       "  0.8700000047683716,\n",
       "  0.8700000047683716,\n",
       "  0.871666669845581,\n",
       "  0.875,\n",
       "  0.8816666603088379,\n",
       "  0.8816666603088379,\n",
       "  0.8833333253860474,\n",
       "  0.8833333253860474,\n",
       "  0.8849999904632568,\n",
       "  0.8866666555404663,\n",
       "  0.8883333206176758,\n",
       "  0.8899999856948853,\n",
       "  0.8899999856948853,\n",
       "  0.8916666507720947,\n",
       "  0.8916666507720947,\n",
       "  0.8916666507720947,\n",
       "  0.8916666507720947,\n",
       "  0.8916666507720947,\n",
       "  0.8916666507720947,\n",
       "  0.8916666507720947,\n",
       "  0.8916666507720947,\n",
       "  0.8916666507720947,\n",
       "  0.8949999809265137,\n",
       "  0.8966666460037231,\n",
       "  0.8983333110809326,\n",
       "  0.903333306312561,\n",
       "  0.903333306312561,\n",
       "  0.9083333611488342,\n",
       "  0.9083333611488342,\n",
       "  0.9100000262260437,\n",
       "  0.9116666913032532,\n",
       "  0.9116666913032532],\n",
       " 'val_loss': [1.3251724243164062,\n",
       "  0.9070176482200623,\n",
       "  0.745207667350769,\n",
       "  0.7115391492843628,\n",
       "  0.697124719619751,\n",
       "  0.6927515268325806,\n",
       "  0.6890037059783936,\n",
       "  0.6867924928665161,\n",
       "  0.6835359930992126,\n",
       "  0.6812571287155151,\n",
       "  0.6787247657775879,\n",
       "  0.6773697733879089,\n",
       "  0.6743673086166382,\n",
       "  0.6727646589279175,\n",
       "  0.670415997505188,\n",
       "  0.6675658226013184,\n",
       "  0.6656713485717773,\n",
       "  0.6629558801651001,\n",
       "  0.6611559987068176,\n",
       "  0.6578513383865356,\n",
       "  0.6529913544654846,\n",
       "  0.6490901112556458,\n",
       "  0.6452530026435852,\n",
       "  0.6397275924682617,\n",
       "  0.6334173679351807,\n",
       "  0.628384530544281,\n",
       "  0.6239499449729919,\n",
       "  0.6158221364021301,\n",
       "  0.6105828881263733,\n",
       "  0.605731189250946,\n",
       "  0.6000912189483643,\n",
       "  0.5933985710144043,\n",
       "  0.5873504877090454,\n",
       "  0.5837149024009705,\n",
       "  0.5788912773132324,\n",
       "  0.5734880566596985,\n",
       "  0.569000244140625,\n",
       "  0.563959538936615,\n",
       "  0.5580167770385742,\n",
       "  0.5511012077331543,\n",
       "  0.544921338558197,\n",
       "  0.5402974486351013,\n",
       "  0.5353828072547913,\n",
       "  0.532511293888092,\n",
       "  0.5274866819381714,\n",
       "  0.522599458694458,\n",
       "  0.5181328058242798,\n",
       "  0.5139675140380859,\n",
       "  0.508072555065155,\n",
       "  0.5053932070732117,\n",
       "  0.5006039142608643,\n",
       "  0.49624302983283997,\n",
       "  0.49213746190071106,\n",
       "  0.48835912346839905,\n",
       "  0.4863629639148712,\n",
       "  0.4835880398750305,\n",
       "  0.4794086813926697,\n",
       "  0.4760255813598633,\n",
       "  0.4718777537345886,\n",
       "  0.46911513805389404,\n",
       "  0.4658154249191284,\n",
       "  0.46275410056114197,\n",
       "  0.4591667056083679,\n",
       "  0.4554499685764313,\n",
       "  0.452840119600296,\n",
       "  0.4494468569755554,\n",
       "  0.4490947425365448,\n",
       "  0.4451512098312378,\n",
       "  0.44251328706741333,\n",
       "  0.4403320848941803,\n",
       "  0.43773895502090454,\n",
       "  0.4332659840583801,\n",
       "  0.4304542541503906,\n",
       "  0.4266786277294159,\n",
       "  0.4246417284011841,\n",
       "  0.42107242345809937,\n",
       "  0.41858693957328796,\n",
       "  0.41644296050071716,\n",
       "  0.4131655991077423,\n",
       "  0.41180774569511414,\n",
       "  0.4083573520183563,\n",
       "  0.4052349030971527,\n",
       "  0.4035702049732208,\n",
       "  0.3998710513114929,\n",
       "  0.3963899612426758,\n",
       "  0.39282768964767456,\n",
       "  0.39077144861221313,\n",
       "  0.3869224488735199,\n",
       "  0.38350844383239746,\n",
       "  0.3819234073162079,\n",
       "  0.37719735503196716,\n",
       "  0.3759528696537018,\n",
       "  0.3733447790145874,\n",
       "  0.3697092533111572,\n",
       "  0.3667930066585541,\n",
       "  0.3646482825279236,\n",
       "  0.3621409237384796,\n",
       "  0.3598724901676178,\n",
       "  0.35708341002464294,\n",
       "  0.3553638160228729],\n",
       " 'val_accuracy': [0.5600000023841858,\n",
       "  0.5199999809265137,\n",
       "  0.4466666579246521,\n",
       "  0.4466666579246521,\n",
       "  0.4866666793823242,\n",
       "  0.5400000214576721,\n",
       "  0.5733333230018616,\n",
       "  0.5733333230018616,\n",
       "  0.5866666436195374,\n",
       "  0.5866666436195374,\n",
       "  0.5933333039283752,\n",
       "  0.6066666841506958,\n",
       "  0.6133333444595337,\n",
       "  0.6133333444595337,\n",
       "  0.6200000047683716,\n",
       "  0.6200000047683716,\n",
       "  0.6333333253860474,\n",
       "  0.6399999856948853,\n",
       "  0.6466666460037231,\n",
       "  0.6733333468437195,\n",
       "  0.6933333277702332,\n",
       "  0.699999988079071,\n",
       "  0.7066666483879089,\n",
       "  0.7066666483879089,\n",
       "  0.699999988079071,\n",
       "  0.6866666674613953,\n",
       "  0.6733333468437195,\n",
       "  0.6800000071525574,\n",
       "  0.6733333468437195,\n",
       "  0.6733333468437195,\n",
       "  0.6666666865348816,\n",
       "  0.6866666674613953,\n",
       "  0.6866666674613953,\n",
       "  0.6866666674613953,\n",
       "  0.6866666674613953,\n",
       "  0.6866666674613953,\n",
       "  0.6866666674613953,\n",
       "  0.6866666674613953,\n",
       "  0.6866666674613953,\n",
       "  0.6866666674613953,\n",
       "  0.6933333277702332,\n",
       "  0.6933333277702332,\n",
       "  0.6933333277702332,\n",
       "  0.6866666674613953,\n",
       "  0.699999988079071,\n",
       "  0.699999988079071,\n",
       "  0.699999988079071,\n",
       "  0.7066666483879089,\n",
       "  0.7266666889190674,\n",
       "  0.7266666889190674,\n",
       "  0.7266666889190674,\n",
       "  0.7266666889190674,\n",
       "  0.7266666889190674,\n",
       "  0.7266666889190674,\n",
       "  0.7200000286102295,\n",
       "  0.7266666889190674,\n",
       "  0.7266666889190674,\n",
       "  0.7266666889190674,\n",
       "  0.7266666889190674,\n",
       "  0.7333333492279053,\n",
       "  0.7333333492279053,\n",
       "  0.7333333492279053,\n",
       "  0.7400000095367432,\n",
       "  0.746666669845581,\n",
       "  0.746666669845581,\n",
       "  0.753333330154419,\n",
       "  0.746666669845581,\n",
       "  0.753333330154419,\n",
       "  0.753333330154419,\n",
       "  0.7666666507720947,\n",
       "  0.7799999713897705,\n",
       "  0.7799999713897705,\n",
       "  0.7866666913032532,\n",
       "  0.7866666913032532,\n",
       "  0.7799999713897705,\n",
       "  0.7799999713897705,\n",
       "  0.7799999713897705,\n",
       "  0.7866666913032532,\n",
       "  0.7933333516120911,\n",
       "  0.7933333516120911,\n",
       "  0.7933333516120911,\n",
       "  0.800000011920929,\n",
       "  0.800000011920929,\n",
       "  0.800000011920929,\n",
       "  0.800000011920929,\n",
       "  0.800000011920929,\n",
       "  0.800000011920929,\n",
       "  0.800000011920929,\n",
       "  0.8133333325386047,\n",
       "  0.8066666722297668,\n",
       "  0.8199999928474426,\n",
       "  0.8199999928474426,\n",
       "  0.8333333134651184,\n",
       "  0.8333333134651184,\n",
       "  0.846666693687439,\n",
       "  0.8533333539962769,\n",
       "  0.8533333539962769,\n",
       "  0.8533333539962769,\n",
       "  0.8533333539962769,\n",
       "  0.8533333539962769]}"
      ]
     },
     "execution_count": 16,
     "metadata": {},
     "output_type": "execute_result"
    }
   ],
   "source": [
    "history.history"
   ]
  },
  {
   "cell_type": "markdown",
   "metadata": {},
   "source": [
    "Now visualize the loss over time using `history.history`: "
   ]
  },
  {
   "cell_type": "code",
   "execution_count": 18,
   "metadata": {
    "scrolled": true
   },
   "outputs": [
    {
     "name": "stderr",
     "output_type": "stream",
     "text": [
      "F:\\programingSoftware\\anaconda3\\lib\\site-packages\\pandas\\core\\frame.py:4296: SettingWithCopyWarning: \n",
      "A value is trying to be set on a copy of a slice from a DataFrame\n",
      "\n",
      "See the caveats in the documentation: https://pandas.pydata.org/pandas-docs/stable/user_guide/indexing.html#returning-a-view-versus-a-copy\n",
      "  return super().rename(\n"
     ]
    },
    {
     "data": {
      "text/plain": [
       "[Text(0.5, 0, 'Epoch'), Text(0, 0.5, 'Accuracy')]"
      ]
     },
     "execution_count": 18,
     "metadata": {},
     "output_type": "execute_result"
    },
    {
     "data": {
      "image/png": "[encoded data removed]",
      "text/plain": [
       "<Figure size 864x576 with 1 Axes>"
      ]
     },
     "metadata": {
      "needs_background": "light"
     },
     "output_type": "display_data"
    },
    {
     "data": {
      "image/png": "[encoded data removed]",
      "text/plain": [
       "<Figure size 864x576 with 1 Axes>"
      ]
     },
     "metadata": {
      "needs_background": "light"
     },
     "output_type": "display_data"
    }
   ],
   "source": [
    "# The history.history[\"loss\"] entry is a dictionary with as many values as epochs that the\n",
    "# model was trained on. \n",
    "df_loss_acc = pd.DataFrame(history.history)\n",
    "df_loss= df_loss_acc[['loss','val_loss']]\n",
    "df_loss.rename(columns={'loss':'train','val_loss':'validation'},inplace=True)\n",
    "df_acc= df_loss_acc[['accuracy','val_accuracy']]\n",
    "df_acc.rename(columns={'accuracy':'train','val_accuracy':'validation'},inplace=True)\n",
    "df_loss.plot(title='Model loss',figsize=(12,8)).set(xlabel='Epoch',ylabel='Loss')\n",
    "df_acc.plot(title='Model Accuracy',figsize=(12,8)).set(xlabel='Epoch',ylabel='Accuracy')"
   ]
  },
  {
   "cell_type": "markdown",
   "metadata": {},
   "source": [
    "**Congratulations**! You've finished the assignment and built two models: One that recognizes  smiles, and another that recognizes SIGN language with almost 80% accuracy on the test set. In addition to that, you now also understand the applications of two Keras APIs: Sequential and Functional. Nicely done! \n",
    "\n",
    "By now, you know a bit about how the Functional API works and may have glimpsed the possibilities. In your next assignment, you'll really get a feel for its power when you get the opportunity to build a very deep ConvNet, using ResNets! "
   ]
  },
  {
   "cell_type": "markdown",
   "metadata": {},
   "source": [
    "<a name='6'></a>\n",
    "## 6 - Bibliography\n",
    "\n",
    "You're always encouraged to read the official documentation. To that end, you can find the docs for the Sequential and Functional APIs here: \n",
    "\n",
    "https://www.tensorflow.org/guide/keras/sequential_model\n",
    "\n",
    "https://www.tensorflow.org/guide/keras/functional"
   ]
  },
  {
   "cell_type": "code",
   "execution_count": null,
   "metadata": {},
   "outputs": [],
   "source": []
  }
 ],
 "metadata": {
  "coursera": {
   "course_slug": "convolutional-neural-networks",
   "graded_item_id": "bwbJV",
   "launcher_item_id": "0TkXB"
  },
  "kernelspec": {
   "display_name": "Python 3",
   "language": "python",
   "name": "python3"
  },
  "language_info": {
   "codemirror_mode": {
    "name": "ipython",
    "version": 3
   },
   "file_extension": ".py",
   "mimetype": "text/x-python",
   "name": "python",
   "nbconvert_exporter": "python",
   "pygments_lexer": "ipython3",
   "version": "3.8.5"
  }
 },
 "nbformat": 4,
 "nbformat_minor": 2
}
